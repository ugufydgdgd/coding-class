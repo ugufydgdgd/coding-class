{
  "nbformat": 4,
  "nbformat_minor": 0,
  "metadata": {
    "colab": {
      "provenance": []
    },
    "kernelspec": {
      "name": "python3",
      "display_name": "Python 3"
    },
    "language_info": {
      "name": "python"
    }
  },
  "cells": [
    {
      "cell_type": "code",
      "execution_count": 8,
      "metadata": {
        "colab": {
          "base_uri": "https://localhost:8080/"
        },
        "id": "Y0TsnTIanuka",
        "outputId": "c8edca4f-36ed-4ffd-ce81-73dd838cf78d"
      },
      "outputs": [
        {
          "output_type": "stream",
          "name": "stdout",
          "text": [
            "please input a year3000\n",
            "非閏年\n"
          ]
        }
      ],
      "source": [
        "a=int(input(\"please input a year\"))\n",
        "if a<=1582:\n",
        " if a%4==0:\n",
        "  print('閏年')\n",
        " else:\n",
        "  print('非閏年')\n",
        "elif a>1582:\n",
        "  if  a%400==0:\n",
        "    print('閏年')\n",
        "  elif a%100==0:\n",
        "    print('非閏年')\n",
        "  elif a%4==0:\n",
        "    print('閏年')\n",
        "  else:\n",
        "    print('非閏年')"
      ]
    }
  ]
}