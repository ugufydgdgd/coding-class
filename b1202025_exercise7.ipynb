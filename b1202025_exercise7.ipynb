{
  "nbformat": 4,
  "nbformat_minor": 0,
  "metadata": {
    "colab": {
      "provenance": []
    },
    "kernelspec": {
      "name": "python3",
      "display_name": "Python 3"
    },
    "language_info": {
      "name": "python"
    }
  },
  "cells": [
    {
      "cell_type": "code",
      "execution_count": 27,
      "metadata": {
        "colab": {
          "base_uri": "https://localhost:8080/"
        },
        "id": "UNJ4EtQYl6Xo",
        "outputId": "9cf9b199-29e5-44d3-b160-2a0703ad1a41"
      },
      "outputs": [
        {
          "output_type": "stream",
          "name": "stdout",
          "text": [
            "請輸入高度10\n",
            "          *\n",
            "         ***\n",
            "        *****\n",
            "       *******\n",
            "      *********\n",
            "     ***********\n",
            "    *************\n",
            "   ***************\n",
            "  *****************\n",
            " *******************\n",
            "         ***\n",
            "         ***\n",
            "         ***\n",
            "         ***\n",
            "         ***\n"
          ]
        }
      ],
      "source": [
        "def t(h):\n",
        "  for i in range(0,h):\n",
        "    a=(2*i+1)*'*'\n",
        "    b=(h-i)*\" \"\n",
        "    print(f'{b}{a}')\n",
        "  for i in range(1,6):\n",
        "    c=3*\"*\"\n",
        "    d=(h-1)*\" \"\n",
        "    print(f'{d}{c}')\n",
        "h=int(input('請輸入高度'))\n",
        "t(h)"
      ]
    },
    {
      "cell_type": "code",
      "source": [
        "def f(a,b):\n",
        "  c=a/100\n",
        "  d=c**2\n",
        "  b/=d\n",
        "  return b\n",
        "def g(a,b):\n",
        "  c=a/100\n",
        "  d=c**2\n",
        "  b/=d\n",
        "  if b<18.5:\n",
        "    return '體位:過輕'\n",
        "  elif b>=18.5 and b<24:\n",
        "    return '體位:適中'\n",
        "  elif b>=24 and b<27:\n",
        "    return '體位:過重'\n",
        "  elif b>=27:\n",
        "    return '體位:肥胖'\n",
        "try:\n",
        "  a=float(input(\"請輸入身高(公分)\"))\n",
        "  b=float(input(\"請輸入體重\"))\n",
        "  BMI=f(a,b)\n",
        "  print('BMI:',BMI)\n",
        "  print(g(a,b))\n",
        "except:\n",
        "  print('內容輸入錯誤')\n",
        "\n",
        "\n"
      ],
      "metadata": {
        "colab": {
          "base_uri": "https://localhost:8080/"
        },
        "id": "-UVjqYs62S_R",
        "outputId": "6c08f5d7-487c-4392-bc66-0e9de9e0de63"
      },
      "execution_count": 63,
      "outputs": [
        {
          "output_type": "stream",
          "name": "stdout",
          "text": [
            "請輸入身高(公分)120\n",
            "請輸入體重k\n",
            "內容輸入錯誤\n"
          ]
        }
      ]
    }
  ]
}