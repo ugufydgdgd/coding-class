{
  "nbformat": 4,
  "nbformat_minor": 0,
  "metadata": {
    "colab": {
      "provenance": []
    },
    "kernelspec": {
      "name": "python3",
      "display_name": "Python 3"
    },
    "language_info": {
      "name": "python"
    }
  },
  "cells": [
    {
      "cell_type": "code",
      "execution_count": 1,
      "metadata": {
        "colab": {
          "base_uri": "https://localhost:8080/"
        },
        "id": "fkUirFlBl-UP",
        "outputId": "f2c415d2-89cd-43a9-b839-2c9f357e2cb9"
      },
      "outputs": [
        {
          "output_type": "stream",
          "name": "stdout",
          "text": [
            "I'm a student\n"
          ]
        }
      ],
      "source": [
        "print(\"I'm a student\")"
      ]
    },
    {
      "cell_type": "code",
      "source": [
        "X1=int(input(\"請輸入X1\"))\n",
        "X2=int(input(\"請輸入X2\"))\n",
        "Y1=int(input(\"請輸入Y1\"))\n",
        "Y2=int(input(\"請輸入Y2\"))\n",
        "\n",
        "A=X1-Y1\n",
        "B=X2-Y2\n",
        "C=A**2\n",
        "D=B**2\n",
        "E=C+D\n",
        "F=E**0.5\n",
        "print(F)\n",
        "\n"
      ],
      "metadata": {
        "colab": {
          "base_uri": "https://localhost:8080/"
        },
        "id": "5ymgbMlYmJIX",
        "outputId": "51dfb0ee-3a12-4611-adc8-8a21a51ac197"
      },
      "execution_count": 29,
      "outputs": [
        {
          "output_type": "stream",
          "name": "stdout",
          "text": [
            "請輸入X11\n",
            "請輸入X21\n",
            "請輸入Y10\n",
            "請輸入Y20\n",
            "1.4142135623730951\n"
          ]
        }
      ]
    },
    {
      "cell_type": "code",
      "source": [
        "a=int(input(\"請輸入身高\"))\n",
        "b=int(input(\"請輸入體重\"))\n",
        "c=a/100\n",
        "d=c**2\n",
        "b/=d\n",
        "print(b)"
      ],
      "metadata": {
        "colab": {
          "base_uri": "https://localhost:8080/"
        },
        "id": "tMLVjW7SpeZu",
        "outputId": "5a714244-c58c-4faf-da42-1d9fd7792ff9"
      },
      "execution_count": 28,
      "outputs": [
        {
          "output_type": "stream",
          "name": "stdout",
          "text": [
            "請輸入身高170\n",
            "請輸入體重90\n",
            "31.14186851211073\n"
          ]
        }
      ]
    }
  ]
}