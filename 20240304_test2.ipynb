{
  "nbformat": 4,
  "nbformat_minor": 0,
  "metadata": {
    "colab": {
      "provenance": []
    },
    "kernelspec": {
      "name": "python3",
      "display_name": "Python 3"
    },
    "language_info": {
      "name": "python"
    }
  },
  "cells": [
    {
      "cell_type": "code",
      "execution_count": null,
      "metadata": {
        "colab": {
          "base_uri": "https://localhost:8080/"
        },
        "id": "xT6-VlQpdc8c",
        "outputId": "5b17b98f-93dd-465c-ada6-b64cdca8483c"
      },
      "outputs": [
        {
          "output_type": "stream",
          "name": "stdout",
          "text": [
            "11.11111111111111\n"
          ]
        }
      ],
      "source": [
        "\n",
        "Y=4\n",
        "A=2*Y+1\n",
        "\n",
        "\n",
        "Z=100/A\n",
        "print(Z)"
      ]
    }
  ]
}