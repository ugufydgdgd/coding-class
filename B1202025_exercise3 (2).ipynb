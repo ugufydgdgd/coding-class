{
  "nbformat": 4,
  "nbformat_minor": 0,
  "metadata": {
    "colab": {
      "provenance": []
    },
    "kernelspec": {
      "name": "python3",
      "display_name": "Python 3"
    },
    "language_info": {
      "name": "python"
    }
  },
  "cells": [
    {
      "cell_type": "code",
      "execution_count": 45,
      "metadata": {
        "colab": {
          "base_uri": "https://localhost:8080/"
        },
        "id": "g3cCIgo5bV0v",
        "outputId": "37d27bc6-047e-4533-87fe-336a492c559a"
      },
      "outputs": [
        {
          "output_type": "stream",
          "name": "stdout",
          "text": [
            "88.33333333333333\n",
            "{'姓名': '賴宏瑋', '性別': '男', '學號': 'M1129020'}\n",
            "95.0\n",
            "{'姓名': '許珈綺', '性別': '女', '學號': 'M1229001'}\n"
          ]
        }
      ],
      "source": [
        "import copy\n",
        "字典一={'姓名':'賴宏瑋','性別':'男','作業分數':[95,100,90]}\n",
        "字典二={'學號':'M1129020'}\n",
        "字典三={**字典一,**字典二}\n",
        "字典四=copy.deepcopy(字典三)\n",
        "字典三['作業分數'][1]=80\n",
        "字典四['姓名']='許珈綺'\n",
        "字典四['性別']='女'\n",
        "字典四['學號']='M1229001'\n",
        "score3=字典三.pop('作業分數')\n",
        "avg3=(score3[0]+score3[1]+score3[2])/3\n",
        "print(avg3)\n",
        "print(字典三)\n",
        "score4=字典四.pop('作業分數')\n",
        "avg4=(score4[0]+score4[1]+score4[2])/3\n",
        "print(avg4)\n",
        "print(字典四)"
      ]
    },
    {
      "cell_type": "code",
      "source": [
        "a=[100,50,45,60,90,95,80,50]\n",
        "a.insert(0,88)\n",
        "print(a)\n",
        "a[2:5]=[70,50]\n",
        "print(a)\n",
        "a.remove(50)\n",
        "b=a.pop(0)\n",
        "c=a.pop(-1)\n",
        "d=(b+c)\n",
        "print(d)\n",
        "\n"
      ],
      "metadata": {
        "colab": {
          "base_uri": "https://localhost:8080/"
        },
        "id": "2mzwHHsHgYWN",
        "outputId": "44d08653-b460-45a0-f082-766c528f2249"
      },
      "execution_count": 48,
      "outputs": [
        {
          "output_type": "stream",
          "name": "stdout",
          "text": [
            "[88, 100, 50, 45, 60, 90, 95, 80, 50]\n",
            "[88, 100, 70, 50, 90, 95, 80, 50]\n",
            "138\n"
          ]
        }
      ]
    },
    {
      "cell_type": "code",
      "source": [
        "a=347//3\n",
        "b=347%3\n",
        "print(a)\n",
        "print(b)\n",
        "c=a**b\n",
        "print(c)"
      ],
      "metadata": {
        "colab": {
          "base_uri": "https://localhost:8080/"
        },
        "id": "a__jkH9KiGZt",
        "outputId": "e9527584-794c-49ef-b7b7-89685af67ba3"
      },
      "execution_count": 35,
      "outputs": [
        {
          "output_type": "stream",
          "name": "stdout",
          "text": [
            "115\n",
            "2\n",
            "13225\n"
          ]
        }
      ]
    }
  ]
}