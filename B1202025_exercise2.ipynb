{
  "nbformat": 4,
  "nbformat_minor": 0,
  "metadata": {
    "colab": {
      "provenance": []
    },
    "kernelspec": {
      "name": "python3",
      "display_name": "Python 3"
    },
    "language_info": {
      "name": "python"
    }
  },
  "cells": [
    {
      "cell_type": "code",
      "source": [
        "a={'姓名':'賴宏瑋','性別':'男','作業分數':[80,95,100,90]}\n",
        "b={'學號':'M1129020'}\n",
        "c={**a,**b}\n",
        "c['作業分數'][1]=100\n",
        "del c['作業分數'][0]\n",
        "print(c)\n",
        "d=c.get('作業分數')\n",
        "e=d[0]\n",
        "f=d[1]\n",
        "g=d[2]\n",
        "h=e+f+g\n",
        "i=h/3\n",
        "print(i)\n",
        "\n"
      ],
      "metadata": {
        "colab": {
          "base_uri": "https://localhost:8080/"
        },
        "id": "Ms8KEJPfZAip",
        "outputId": "319b80bc-ca89-430e-8a39-f0939b00d0af"
      },
      "execution_count": 8,
      "outputs": [
        {
          "output_type": "stream",
          "name": "stdout",
          "text": [
            "{'姓名': '賴宏瑋', '性別': '男', '作業分數': [100, 100, 90], '學號': 'M1129020'}\n",
            "96.66666666666667\n"
          ]
        }
      ]
    }
  ]
}