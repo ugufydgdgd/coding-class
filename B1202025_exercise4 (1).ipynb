{
  "nbformat": 4,
  "nbformat_minor": 0,
  "metadata": {
    "colab": {
      "provenance": []
    },
    "kernelspec": {
      "name": "python3",
      "display_name": "Python 3"
    },
    "language_info": {
      "name": "python"
    }
  },
  "cells": [
    {
      "cell_type": "code",
      "execution_count": null,
      "metadata": {
        "id": "bzvNHEvsfN2l"
      },
      "outputs": [],
      "source": [
        "a=float(input(\"請輸入身高\"))\n",
        "b=float(input(\"請輸入體重\"))\n",
        "c=a/100\n",
        "d=c**2\n",
        "b/=d\n",
        "print('BMI:',b)\n",
        "if b<18.5:\n",
        "  print('體位:過輕')\n",
        "elif b>=18.5 and b<24:\n",
        "  print('體位:適中')\n",
        "elif b>=24 and b<27:\n",
        "  print('體位:過重')\n",
        "elif b>=27:\n",
        "  print('體位:肥胖')\n"
      ]
    },
    {
      "cell_type": "code",
      "source": [
        "a=float(input(\"請輸入第一個數字\"))\n",
        "b=input()\n",
        "c=float(input(\"請輸入第一個數字\"))\n",
        "\n",
        "if b=='+':\n",
        "  print(a+c)\n",
        "elif b=='-':\n",
        "  print(a-c)\n",
        "elif b=='*':\n",
        "  print(a*c)\n",
        "elif b=='/':\n",
        "  print(a/c)"
      ],
      "metadata": {
        "colab": {
          "base_uri": "https://localhost:8080/"
        },
        "id": "__Hd7yhclofw",
        "outputId": "8d425648-9f8c-45b9-ca16-51f04cdaf604"
      },
      "execution_count": 24,
      "outputs": [
        {
          "output_type": "stream",
          "name": "stdout",
          "text": [
            "請輸入第一個數字1\n",
            "*\n",
            "請輸入第一個數字6\n",
            "6\n"
          ]
        }
      ]
    }
  ]
}